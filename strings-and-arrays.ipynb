{
 "cells": [
  {
   "cell_type": "markdown",
   "metadata": {},
   "source": [
    "# strings and arrays\n",
    "\n",
    "## notes\n",
    "\n",
    "- in Python and Java, strings are immutable\n",
    "\n",
    "![common-string-operations](./images/big-o-array-strings.png)"
   ]
  },
  {
   "cell_type": "code",
   "execution_count": null,
   "metadata": {},
   "outputs": [],
   "source": []
  }
 ],
 "metadata": {
  "language_info": {
   "name": "python"
  }
 },
 "nbformat": 4,
 "nbformat_minor": 2
}

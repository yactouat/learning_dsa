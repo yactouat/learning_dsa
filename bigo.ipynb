{
 "cells": [
  {
   "cell_type": "markdown",
   "metadata": {},
   "source": [
    "# Big O Notation\n",
    "\n",
    "## principles\n",
    "\n",
    "Big O is a notation used to describe the computational complexity of an algorithm. The computational complexity of an algorithm is split into two parts: \n",
    "\n",
    "- time complexity\n",
    "- space complexity\n",
    "\n",
    "The time complexity of an algorithm is the amount of time the algorithm needs to run relative to the input size. The space complexity of an algorithm is the amount of memory allocated by the algorithm when run relative to the input size.\n",
    "\n",
    "**Time complexity**: as the input size grows, how much longer does the algorithm take to complete?\n",
    "\n",
    "**Space complexity**: as the input size grows, how much more memory does the algorithm use?\n",
    "\n",
    "The point of time/space complexity is to describe how the number of operations/memory changes as the input changes.\n",
    "\n",
    "The best complexity possible is O(1), called \"constant time\" or \"constant space\". It means that the algorithm ALWAYS uses the same amount of resources, regardless of the input.\n",
    "\n",
    "When talking about complexity, there are normally three cases:\n",
    "\n",
    "- best case scenario\n",
    "- average case scenario\n",
    "- worst case scenario\n",
    "\n",
    "## conventions\n",
    "\n",
    "- `n` => often denotes the size of the input\n",
    "- `m` => any other arbitrary variable\n",
    "- we ignore constants when calculating complexity"
   ]
  },
  {
   "cell_type": "code",
   "execution_count": 1,
   "metadata": {},
   "outputs": [],
   "source": [
    "arr = [1, 2, 3, 4, 5]\n",
    "arr2 = [1, 2, 3, 4, 5, 6, 7, 8, 9, 10]\n",
    "n = len(arr)\n",
    "m = len(arr2)"
   ]
  },
  {
   "cell_type": "code",
   "execution_count": 3,
   "metadata": {},
   "outputs": [
    {
     "name": "stdout",
     "output_type": "stream",
     "text": [
      "1\n",
      "2\n",
      "3\n",
      "4\n",
      "5\n"
     ]
    }
   ],
   "source": [
    "for num in arr:\n",
    "    print(num)\n",
    "# this is O(n) because the number of operations increases linearly with the size of the input"
   ]
  },
  {
   "cell_type": "code",
   "execution_count": null,
   "metadata": {},
   "outputs": [],
   "source": [
    "for i in arr:\n",
    "    for j in range(5):\n",
    "        print(i)\n",
    "# this is also O(n) because the number of operations increases linearly with the size of the input,\n",
    "# however this one is much slower\n"
   ]
  },
  {
   "cell_type": "code",
   "execution_count": 6,
   "metadata": {},
   "outputs": [
    {
     "name": "stdout",
     "output_type": "stream",
     "text": [
      "1 1\n",
      "1 2\n",
      "2 1\n",
      "2 2\n"
     ]
    }
   ],
   "source": [
    "arr = [1, 2]\n",
    "for i in arr:\n",
    "    for j in arr:\n",
    "        print(i, j)\n",
    "# this is O(n^2) because for each element in the array, we loop through the entire array again\n",
    "# as the input size grows, the number of operations grows quadratically\n"
   ]
  },
  {
   "cell_type": "code",
   "execution_count": null,
   "metadata": {},
   "outputs": [],
   "source": [
    "for i in arr:\n",
    "    print(i)\n",
    "\n",
    "for j in arr2:\n",
    "    print(j)\n",
    "# this is O(n + m) because the number of operations increases linearly with the size of the input,\n",
    "# we would consider the biggest of `n` or `m` when outputting the complexity\n"
   ]
  },
  {
   "cell_type": "markdown",
   "metadata": {},
   "source": [
    "## logarithmic complexity\n",
    "\n",
    "$O(\\log n)$\n",
    "\n",
    "The logarithm of a number `x` is the exponent to which another number `y` must be raised to produce `x`. It is considered very fast. This is commonly used in sorting algorithms.\n",
    "\n",
    "$O(\\log n)$ means that somewhere in your algorithm, the input is being reduced by a percentage at every step.\n",
    "\n"
   ]
  },
  {
   "cell_type": "markdown",
   "metadata": {},
   "source": [
    "## space complexity"
   ]
  },
  {
   "cell_type": "code",
   "execution_count": null,
   "metadata": {},
   "outputs": [],
   "source": [
    "for i in range(10):\n",
    "    print(i)\n",
    "# space complexity is O(1) because we are allocating one variable, `i`, no matter the input size, at every step"
   ]
  },
  {
   "cell_type": "code",
   "execution_count": null,
   "metadata": {},
   "outputs": [],
   "source": [
    "nums = []\n",
    "one_percent = len(arr) // 100\n",
    "\n",
    "for i in range(one_percent):\n",
    "    nums.append(arr[i])\n",
    "# space complexity is O(n) because we are allocating a list of size `n` (where `n` is the size of the input), at every step"
   ]
  },
  {
   "cell_type": "code",
   "execution_count": null,
   "metadata": {},
   "outputs": [],
   "source": [
    "arr3 = [1, 2, 3, 4, 5]\n",
    "arr4 = [6, 7, 8, 9, 10]\n",
    "grid = [[0 for _ in range(len(arr4))] for _ in range(len(arr3))]\n",
    "\n",
    "for i in range(len(arr3)):\n",
    "    for j in range(len(arr4)):\n",
    "        grid[i][j] = arr3[i] * arr4[j]\n",
    "# space complexity is O(n*m) because we create a grid of size n*m\n",
    "# time complexity is O(n*m) because we have nested loops iterating through arrays of size n and m\n"
   ]
  },
  {
   "cell_type": "markdown",
   "metadata": {},
   "source": [
    "`o(n + m)` gives us more information than `o(n)`; the latter telling us more about the general structure of the algorithm, and not its inner workings"
   ]
  }
 ],
 "metadata": {
  "kernelspec": {
   "display_name": "Python 3",
   "language": "python",
   "name": "python3"
  },
  "language_info": {
   "codemirror_mode": {
    "name": "ipython",
    "version": 3
   },
   "file_extension": ".py",
   "mimetype": "text/x-python",
   "name": "python",
   "nbconvert_exporter": "python",
   "pygments_lexer": "ipython3",
   "version": "3.12.3"
  }
 },
 "nbformat": 4,
 "nbformat_minor": 2
}

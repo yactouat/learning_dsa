{
 "cells": [
  {
   "cell_type": "markdown",
   "metadata": {},
   "source": [
    "# sliding window\n",
    "\n",
    "Two pointers work with ordered iterables.\n",
    "\n",
    "Sliding window uses subarrays. Let's take the example of array `[1, 2, 3, 4]`.\n",
    "\n",
    "A subarray is a contiguous section of the array. There MUST BE an overlap between the subarrays.\n",
    "\n",
    "Subarrays of this array are:\n",
    "\n",
    "[1], [2], [3], [4]\n",
    "[1, 2], [2, 3], [3, 4]\n",
    "[1, 2, 3], [2, 3, 4]\n",
    "[1, 2, 3, 4]\n",
    "\n",
    "For any array of length `n`, there are `n` subarrays of length `1`, `n - 1` subarrays of length `2`, `n - 2` subarrays of length `3`, etc.\n",
    "\n",
    "Example: `[1, 2, 3, 4]` has `4` subarrays of length `1`, `3` subarrays of length `2`, `2` subarrays of length `3`, and `1` subarray of length `4`.\n",
    "\n",
    "![partial sums](./partial-sums.png)\n",
    "\n",
    "A sliding window guarantees a maximum of 2n windows iterations, with both the right and left pointers moving at most n times.\n",
    "\n",
    "## use-cases\n",
    "\n",
    "If you need to find one or more _valid_ subarrays within an array that satisfy a condition, you may need to use a sliding window.\n",
    "\n",
    "Examples:\n",
    "\n",
    "- find the longest subarray with a sum less than or equal to `k`\n",
    "- find the longest substring that has at most one \"0\"\n",
    "- find the number of subarrays that have a product less than `k`\n",
    "- find the sum of the subarray with the largest sum with length `k`\n",
    "\n",
    "## how it works\n",
    "\n",
    "In sliding window, we maintain two variables left and right, which at any given time represent the current subarray under consideration.\n",
    "\n",
    "The current subarray that is iterated on has a left and right boundary. At the beginning, it's `left = right = 0`, since we consider the first element of the array to be the first subarray under consideration. The idea here is to expand the size of the window to the right iteratively.\n",
    "\n",
    "If, on expansion, the current subarray becomes invalid, we need to shrink it from the left (caterpillar-like motion).\n",
    "\n",
    "## neat tricks\n",
    "\n",
    "- in problems that must satisfy a constraint of type `sum <= k`, the number of valid subarrays is the size of the current window, i.e. `right - left + 1`."
   ]
  },
  {
   "cell_type": "code",
   "execution_count": 1,
   "metadata": {},
   "outputs": [],
   "source": [
    "def find_longest_subarray_with_sum_leq_than_k(nums: list[int], k: int) -> int:\n",
    "    left = 0\n",
    "    curr = 0\n",
    "    answer = 0\n",
    "    \n",
    "    for right in range(len(nums)):\n",
    "        curr += nums[right]\n",
    "        while curr > k:\n",
    "            curr -= nums[left]\n",
    "            left += 1\n",
    "            \n",
    "        answer = max(answer, right - left + 1)\n",
    "        \n",
    "    return answer\n"
   ]
  },
  {
   "cell_type": "code",
   "execution_count": 2,
   "metadata": {},
   "outputs": [
    {
     "name": "stdout",
     "output_type": "stream",
     "text": [
      "3\n",
      "3\n"
     ]
    }
   ],
   "source": [
    "def find_length_of_longest_substring_with_at_most_one_zero(s: str) -> int:\n",
    "    # curr is the current number of zeros in the window\n",
    "    left = curr = ans = 0 \n",
    "    for right in range(len(s)):\n",
    "        if s[right] == \"0\":\n",
    "            curr += 1\n",
    "        while curr > 1:\n",
    "            if s[left] == \"0\":\n",
    "                curr -= 1\n",
    "            left += 1\n",
    "        ans = max(ans, right - left + 1)\n",
    "    \n",
    "    return ans\n",
    "\n",
    "inputs = [\n",
    "    \"0110\",\n",
    "    \"0101\"\n",
    "]\n",
    "\n",
    "for s in inputs:\n",
    "    print(find_length_of_longest_substring_with_at_most_one_zero(s))\n"
   ]
  },
  {
   "cell_type": "code",
   "execution_count": 3,
   "metadata": {},
   "outputs": [],
   "source": [
    "def find_num_subarrays_with_product_less_than_k(nums: list[int], k: int) -> int:\n",
    "    # if k <= 1, there are no valid subarrays\n",
    "    if k <= 1:\n",
    "        return 0\n",
    "\n",
    "    ans = left = 0\n",
    "    curr = 1\n",
    "\n",
    "    for right in range(len(nums)):\n",
    "        curr *= nums[right]\n",
    "        while curr >= k:\n",
    "            # divide the current product by the leftmost element,\n",
    "            # this effectively removes the leftmost element from the current product\n",
    "            curr //= nums[left]\n",
    "            left += 1\n",
    "            \n",
    "        # the number of valid subarrays ending at `right` is given by the size of the current window,\n",
    "        # i.e. `right - left + 1`\n",
    "        ans += right - left + 1\n",
    "\n",
    "    return ans"
   ]
  },
  {
   "cell_type": "code",
   "execution_count": 4,
   "metadata": {},
   "outputs": [],
   "source": [
    "def find_num_fixed_length_subarrays_with_product_less_than_k(nums: list[int], k: int) -> int:\n",
    "    # initialize current product\n",
    "    curr = 1\n",
    "    \n",
    "    # build first window of fixed size k\n",
    "    for i in range(k):\n",
    "        curr *= nums[i]\n",
    "        \n",
    "    # count first window if valid\n",
    "    ans = 1 if curr < k else 0\n",
    "    \n",
    "    # slide window\n",
    "    for i in range(k, len(nums)):\n",
    "        # add new element\n",
    "        curr *= nums[i]\n",
    "        # remove leftmost element,\n",
    "        # it's mandatory as the window size is fixed\n",
    "        curr //= nums[i - k]\n",
    "        # count window if valid, increment answer\n",
    "        if curr < k:\n",
    "            ans += 1\n",
    "            \n",
    "    return ans\n"
   ]
  },
  {
   "cell_type": "code",
   "execution_count": 5,
   "metadata": {},
   "outputs": [],
   "source": [
    "def find_sum_of_largest_subarray_with_length_k(nums: list[int], k: int) -> int:\n",
    "    ans = curr = 0\n",
    "    \n",
    "    # build first window of fixed size k\n",
    "    for i in range(k):\n",
    "        curr += nums[i]\n",
    "    \n",
    "    # slide window\n",
    "    for i in range(k, len(nums)):\n",
    "        # add new element\n",
    "        curr += nums[i]\n",
    "        # remove leftmost element,\n",
    "        # it's mandatory as the window size is fixed\n",
    "        curr -= nums[i - k]\n",
    "        # count window if valid, increment answer\n",
    "        if curr > ans:\n",
    "            ans = curr\n",
    "            \n",
    "    return ans\n"
   ]
  },
  {
   "cell_type": "code",
   "execution_count": 20,
   "metadata": {},
   "outputs": [
    {
     "name": "stdout",
     "output_type": "stream",
     "text": [
      "12.75\n"
     ]
    }
   ],
   "source": [
    "def find_max_avg_arr_of_length_k(nums: list[int], k: int) -> float:\n",
    "    if k == 0:\n",
    "        return 0\n",
    "\n",
    "    ans = curr = sum(nums[:k])\n",
    "\n",
    "    # slide window\n",
    "    for i in range(k, len(nums)):\n",
    "        # current sum is the sum of the next right item minus the leftmost item\n",
    "        curr += nums[i] - nums[i - k]\n",
    "        # update answer\n",
    "        ans = max(ans, curr)\n",
    "\n",
    "    return ans / k\n",
    "\n",
    "print(find_max_avg_arr_of_length_k([1,12,-5,-6,50,3], 4)) # expected 12.75000"
   ]
  }
 ],
 "metadata": {
  "kernelspec": {
   "display_name": "venv",
   "language": "python",
   "name": "python3"
  },
  "language_info": {
   "codemirror_mode": {
    "name": "ipython",
    "version": 3
   },
   "file_extension": ".py",
   "mimetype": "text/x-python",
   "name": "python",
   "nbconvert_exporter": "python",
   "pygments_lexer": "ipython3",
   "version": "3.12.3"
  }
 },
 "nbformat": 4,
 "nbformat_minor": 2
}

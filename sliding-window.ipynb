{
 "cells": [
  {
   "cell_type": "markdown",
   "metadata": {},
   "source": [
    "# sliding window\n",
    "\n",
    "Two pointers work with ordered iterables.\n",
    "\n",
    "Sliding window uses subarrays. Let's take the example of array `[1, 2, 3, 4]`.\n",
    "\n",
    "A subarray is a contiguous section of the array. There MUST BE an overlap between the subarrays.\n",
    "\n",
    "Subarrays of this array are:\n",
    "\n",
    "[1], [2], [3], [4]\n",
    "[1, 2], [2, 3], [3, 4]\n",
    "[1, 2, 3], [2, 3, 4]\n",
    "[1, 2, 3, 4]\n",
    "\n",
    "## use-cases\n",
    "\n",
    "If you need to find one or more _valid_ subarrays within an array that satisfy a condition, you may need to use a sliding window.\n",
    "\n",
    "Examples:\n",
    "\n",
    "- find the longest subarray with a sum less than or equal to k\n",
    "- find the longest substring that has at most one \"0\"\n",
    "- find the number of subarrays that have a product less than k\n",
    "\n",
    "## how it works\n",
    "\n",
    "In sliding window, we maintain two variables left and right, which at any given time represent the current subarray under consideration.\n",
    "\n",
    "The current subarray that is iterated on has a left and right boundary. At the beginning, it's `left = right = 0`, since we consider the first element of the array to be the first subarray under consideration. The idea here is to expand the size of the window to the right iteratively.\n",
    "\n",
    "If, on expansion, the current subarray becomes invalid, we need to shrink it from the left (caterpillar-like motion).\n",
    "\n"
   ]
  }
 ],
 "metadata": {
  "language_info": {
   "name": "python"
  }
 },
 "nbformat": 4,
 "nbformat_minor": 2
}

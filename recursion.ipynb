{
 "cells": [
  {
   "cell_type": "markdown",
   "metadata": {},
   "source": [
    "# Recursion"
   ]
  },
  {
   "cell_type": "code",
   "execution_count": 8,
   "metadata": {},
   "outputs": [
    {
     "name": "stdout",
     "output_type": "stream",
     "text": [
      "1\n",
      "2\n",
      "3\n"
     ]
    }
   ],
   "source": [
    "def fn(i):\n",
    "    # base case\n",
    "    # ! they are always needed in any recursive function\n",
    "    if i > 3:\n",
    "        return\n",
    "    print(i)\n",
    "    fn(i + 1)\n",
    "fn(1)"
   ]
  },
  {
   "cell_type": "code",
   "execution_count": 7,
   "metadata": {},
   "outputs": [
    {
     "name": "stdout",
     "output_type": "stream",
     "text": [
      "1\n",
      "2\n",
      "3\n"
     ]
    }
   ],
   "source": [
    "# this is equivalent to the for loop below\n",
    "for i in range(1, 4):\n",
    "    print(i)\n"
   ]
  },
  {
   "cell_type": "markdown",
   "metadata": {},
   "source": [
    "... the recursive version printed the numbers in reverse order, because when we return at the base case step, the value of `i` is `3`, and all subsequent values will be iterated back in reverse order until the original function call.\n",
    "\n",
    "Note that each function call also has its own local scope. So in the example above, when we call `f(3)`, there are 3 \"versions\" of `i` that exist simultaneously.\n"
   ]
  },
  {
   "cell_type": "markdown",
   "metadata": {},
   "source": [
    "## when to use recursion\n",
    "\n",
    "Recusions works well when you need to break down a problem into \"subproblems\", whose solutions can then be combined to solve the original problem.\n",
    "- **Divisible problems**: When a problem can be naturally divided into similar but smaller sub-problems.\n",
    "- **Recursive data structures**: For traversing or manipulating structures such as trees or graphs.\n",
    "- **Mathematical algorithms**: For calculations such as factorials or, as shown here, the Fibonacci sequence.\n",
    "- **Code simplification**: Sometimes, a recursive solution can be clearer and more concise than an iterative one.\n",
    "See example with the Fibonacci sequence:"
   ]
  },
  {
   "cell_type": "code",
   "execution_count": 17,
   "metadata": {},
   "outputs": [
    {
     "data": {
      "text/plain": [
       "2"
      ]
     },
     "execution_count": 17,
     "metadata": {},
     "output_type": "execute_result"
    }
   ],
   "source": [
    "# 0, 1, 1, 2, 3, 5, 8, ...\n",
    "def F(n):\n",
    "    # base case\n",
    "    if n == 0:\n",
    "        return 0\n",
    "    if n == 1:\n",
    "        return 1\n",
    "    # the sum of the two (n -1) + (n - 2) should be the value of F(n)\n",
    "    return F(n - 1) + F(n - 2)\n",
    "\n",
    "F(3)"
   ]
  },
  {
   "cell_type": "markdown",
   "metadata": {},
   "source": [
    "### another use case : how to implement my own factorial way "
   ]
  },
  {
   "cell_type": "code",
   "execution_count": 1,
   "metadata": {},
   "outputs": [
    {
     "name": "stdout",
     "output_type": "stream",
     "text": [
      "120\n"
     ]
    }
   ],
   "source": [
    "def factorial(n):\n",
    "    # Base case\n",
    "    if n == 0 or n == 1:\n",
    "        return 1\n",
    "    # Recursive case\n",
    "    else:\n",
    "        return n * factorial(n - 1)\n",
    "\n",
    "print(factorial(5))  # Should print 120"
   ]
  },
  {
   "cell_type": "markdown",
   "metadata": {},
   "source": [
    "**Remember** : While recursion can make some problems easier to understand and solve, it's not always the most efficient solution, especially for large numbers, due to the overhead of multiple function calls. "
   ]
  }
 ],
 "metadata": {
  "kernelspec": {
   "display_name": "Python 3",
   "language": "python",
   "name": "python3"
  },
  "language_info": {
   "codemirror_mode": {
    "name": "ipython",
    "version": 3
   },
   "file_extension": ".py",
   "mimetype": "text/x-python",
   "name": "python",
   "nbconvert_exporter": "python",
   "pygments_lexer": "ipython3",
   "version": "3.11.3"
  }
 },
 "nbformat": 4,
 "nbformat_minor": 2
}

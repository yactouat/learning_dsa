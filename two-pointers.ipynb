{
 "cells": [
  {
   "cell_type": "markdown",
   "metadata": {},
   "source": [
    "# two pointers\n",
    "\n",
    "Two pointers involves having two integer variables that both move along an iterable as indexes.\n",
    "\n",
    "## example use-cases:\n",
    "\n",
    "- check if a string is a palindrome\n",
    "- in a sorted array, check if the sum of two numbers equals a target\n",
    "\n",
    "## one two pointers method: \"Start the pointers at the edges of the input. Move them towards each other until they meet.\"\n",
    "\n",
    "Deciding which pointers to move will depend on the problem we are trying to solve."
   ]
  },
  {
   "cell_type": "code",
   "execution_count": null,
   "metadata": {},
   "outputs": [],
   "source": [
    "def fn(arr):\n",
    "    left = 0\n",
    "    right = len(arr) - 1\n",
    "    \n",
    "    while left < right:\n",
    "        # ...do some logic here depending on the problem (the work here is `0(1)`)\n",
    "        \n",
    "        # ...do some more logic here to decide on one of the following:\n",
    "        #   1. left += 1 \n",
    "        #   2. right -= 1\n",
    "        #   3. both left += 1 and right -= 1\n",
    "        pass\n",
    "\n",
    "# illustration with the palindrome problem,\n",
    "# this could work with an array or a string as an input\n",
    "def is_palindrome(s):\n",
    "    left = 0\n",
    "    right = len(s) - 1\n",
    "\n",
    "    while left < right:\n",
    "        if s[left] != s[right]:\n",
    "            return False\n",
    "        left += 1\n",
    "        right -= 1\n",
    "    \n",
    "    return True\n",
    "\n",
    "# this algorithm is `0(1)` space complexity because it only uses two integer variables, no matter what\n",
    "# time complexity is `0(n)` where `n` is the length of the string or array"
   ]
  },
  {
   "cell_type": "markdown",
   "metadata": {},
   "source": [
    "### use-case: in a sorted array, check if the sum of two numbers equals a target"
   ]
  },
  {
   "cell_type": "code",
   "execution_count": null,
   "metadata": {},
   "outputs": [],
   "source": [
    "# this algorithm is `0(1)` space complexity because it only uses 3 variables, no matter what\n",
    "# time complexity is `0(n)` where `n` is the length of the array\n",
    "def check_for_target_in_sorted_nums_arr(nums, target):\n",
    "    left = 0\n",
    "    right = len(nums) - 1\n",
    "\n",
    "    while left < right:\n",
    "        # curr is the current sum\n",
    "        curr = nums[left] + nums[right]\n",
    "        if curr == target:\n",
    "            return True\n",
    "        if curr > target:\n",
    "            right -= 1\n",
    "        else:\n",
    "            left += 1\n",
    "    \n",
    "    return False\n"
   ]
  },
  {
   "cell_type": "markdown",
   "metadata": {},
   "source": [
    "## one two pointers method: \"Move along both inputs simultaneously until all elements have been checked.\"\n",
    "\n",
    "Applicable with two iterables as inputs.\n",
    "\n",
    "Converting this idea into instructions:\n",
    "\n",
    "- create two pointers, one for each iterable\n",
    "- each pointer should start at the first index\n",
    "- use a while loop until one of the pointers reaches the end of its iterable\n",
    "- at each iteration of the loop, move the pointers forward\n",
    "- this means incrementing either one of the pointers or both of the pointers\n",
    "- deciding which pointers to move will depend on the problem we are trying to solve\n",
    "\n",
    "Because our while loop will stop when one of the pointers reaches the end, the other pointer will not be at the end of its respective iterable when the loop finishes. Sometimes, we need to iterate through all elements - if this is the case, you will need to write extra code here to make sure both iterables are exhausted.\n"
   ]
  },
  {
   "cell_type": "code",
   "execution_count": null,
   "metadata": {},
   "outputs": [],
   "source": [
    "def two_pointers_two_inputs(arr1, arr2):\n",
    "    i = j = 0\n",
    "    \n",
    "    # Process both arrays until we reach the end of one\n",
    "    while i < len(arr1) and j < len(arr2):\n",
    "        print(\"I'm doing some custom logic here\")\n",
    "            \n",
    "    # we're in the case where we need to go through both inputs until their ends\n",
    "    # Process remaining elements in arr1 if any\n",
    "    while i < len(arr1):\n",
    "        i += 1\n",
    "        # Do problem-specific logic here\n",
    "    # Process remaining elements in arr2 if any\n",
    "    while j < len(arr2):\n",
    "        j += 1\n",
    "        # Do problem-specific logic here\n",
    "\n",
    "# O(n + m) time complexity where n is the length of arr1 and m is the length of arr2\n"
   ]
  }
 ],
 "metadata": {
  "language_info": {
   "name": "python"
  }
 },
 "nbformat": 4,
 "nbformat_minor": 2
}
